{
 "cells": [
  {
   "cell_type": "code",
   "execution_count": 7,
   "metadata": {},
   "outputs": [
    {
     "data": {
      "image/png": "[encoded data removed]",
      "text/plain": [
       "<Figure size 432x288 with 1 Axes>"
      ]
     },
     "metadata": {
      "needs_background": "light"
     },
     "output_type": "display_data"
    }
   ],
   "source": [
    "import numpy as np\n",
    "\n",
    "import matplotlib.pyplot as plt\n",
    "V = np.array ([ 0,\n",
    "                3.728,\n",
    "                6.375,\n",
    "                8.13,\n",
    "                9.31,\n",
    "               10.08,\n",
    "               10.63,\n",
    "               11,\n",
    "               11.25,\n",
    "               11.41,\n",
    "               11.52,\n",
    "               11.6,\n",
    "               11.66,\n",
    "               11.69,\n",
    "              ]) #f i l l in the ar ray\n",
    "t = np.array ( [0,\n",
    "                10,\n",
    "                20,\n",
    "                30,\n",
    "                40,\n",
    "                50,\n",
    "                60,\n",
    "                70,\n",
    "                80,\n",
    "                90,\n",
    "                100,\n",
    "                110,\n",
    "                120,\n",
    "                130])\n",
    "plt.plot (t,V)\n",
    "plt.title('Charging Capacitor in Slow RC Ciruit')\n",
    "plt.ylabel('Voltage (V)')\n",
    "plt.xlabel('Time (s)')\n",
    "plt.show()\n",
    "#you can change the c o l o r and shape o f the po int s\n",
    "#don ' t f o r g e t to put a t i t l e and x and y axes l a b e l s on i t as we l l .\n",
    "#r e f e r e n c e our normal p l o t t i n g code f o r help , or the web"
   ]
  },
  {
   "cell_type": "code",
   "execution_count": null,
   "metadata": {},
   "outputs": [],
   "source": []
  }
 ],
 "metadata": {
  "kernelspec": {
   "display_name": "Python 3",
   "language": "python",
   "name": "python3"
  },
  "language_info": {
   "codemirror_mode": {
    "name": "ipython",
    "version": 3
   },
   "file_extension": ".py",
   "mimetype": "text/x-python",
   "name": "python",
   "nbconvert_exporter": "python",
   "pygments_lexer": "ipython3",
   "version": "3.8.8"
  }
 },
 "nbformat": 4,
 "nbformat_minor": 2
}
